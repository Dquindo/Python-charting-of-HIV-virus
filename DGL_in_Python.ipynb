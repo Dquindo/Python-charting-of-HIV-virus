{
 "cells": [
  {
   "cell_type": "markdown",
   "metadata": {
    "id": "ANeukD8DXm8F"
   },
   "source": [
    "# Differenzialgleichungen mit Python lösen\n",
    "\n",
    "In diesem Notebook wollen wir lernen, wie Differenzialgleichungssysteme in Python gelöst werden."
   ]
  },
  {
   "cell_type": "markdown",
   "metadata": {
    "id": "0bo-gvNCsaiN"
   },
   "source": [
    "## Numerische Integration in Python\n",
    "\n",
    "Hier lernst du, wie du Python dazu bringst, die DGL für dich zu lösen. Dabei wird dir Python keine analytische Formel zurück geben, sondern die Werte der gesuchten Funktion für bestimmte Zeitpunkte, die du vorgibst.\n",
    "\n",
    "Zeit: nicht länger 20 Minuten"
   ]
  },
  {
   "cell_type": "code",
   "execution_count": null,
   "metadata": {
    "id": "KzPHVVnMsr0r"
   },
   "outputs": [],
   "source": [
    "# Als erstes müssen Bibliotheken geladen werden\n",
    "\n",
    "import numpy as np # die Mathebibliothek\n",
    "import matplotlib.pyplot as plt # die Bibliothek zum Plotten\n",
    "\n",
    "from scipy.integrate import odeint # diese Funktion löst die DGLs für dich :)"
   ]
  },
  {
   "cell_type": "code",
   "execution_count": null,
   "metadata": {
    "id": "KxFCv4f5sr73"
   },
   "outputs": [],
   "source": [
    "%matplotlib notebook # für interaktive Plots, total praktisch! Wenn du keine Interaktion siehst, dann melde dich bei Kathinka und Louisa."
   ]
  },
  {
   "cell_type": "markdown",
   "metadata": {},
   "source": [
    "Die Differenzialgleichung, die wir uns jetzt anschauen wollen hat die Form $$\\frac{\\mathrm{d}}{\\mathrm{d}t} x(t) = c - k \\cdot x(t)$$"
   ]
  },
  {
   "cell_type": "code",
   "execution_count": null,
   "metadata": {
    "id": "WBm_eg3GssB1"
   },
   "outputs": [],
   "source": [
    "# In dieser Zelle wird die Differenzialgleichung definiert in einer Funktion\n",
    "\n",
    "def simple_ode(x,t):\n",
    "    #Definiere die Parameter\n",
    "    c = 1.0\n",
    "    k = 2.0\n",
    "    \n",
    "    #Definiere die DGL\n",
    "    dxdt = c - k*x\n",
    "    \n",
    "    #Gib die DGL zurück\n",
    "    return dxdt"
   ]
  },
  {
   "cell_type": "code",
   "execution_count": null,
   "metadata": {
    "id": "BPd-UWjDtiW6"
   },
   "outputs": [],
   "source": [
    "# Definiere die Anfangsbedingung und die Zeitpunkte für die Integration\n",
    "T = np.arange(0,10,0.1)\n",
    "X0 = 0\n",
    "\n",
    "# Löse die DGL\n",
    "X = odeint(simple_ode, X0, T)\n"
   ]
  },
  {
   "cell_type": "code",
   "execution_count": null,
   "metadata": {
    "colab": {
     "base_uri": "https://localhost:8080/",
     "height": 297
    },
    "id": "TPHbxsUMticw",
    "outputId": "6e6f675b-11aa-4646-db3e-003c10ee529a"
   },
   "outputs": [],
   "source": [
    "# plotte das Ergebnis\n",
    "fig, ax = plt.subplots()\n",
    "ax.plot(T,X,linewidth=2)\n",
    "ax.set_xlabel('Zeit t')\n",
    "ax.set_ylabel('x(t)')"
   ]
  },
  {
   "cell_type": "code",
   "execution_count": null,
   "metadata": {
    "colab": {
     "base_uri": "https://localhost:8080/",
     "height": 297
    },
    "id": "Kdmkl4xAuGil",
    "outputId": "ada4cf12-5a46-472b-8cc3-bd15734d0752"
   },
   "outputs": [],
   "source": [
    "# Man kann auch verschiedene Anfangswerte in einen Plot machen. Spiele ruhig mit den Anfangswerten, um ein Gefühl für die DGL zu bekommen.\n",
    "\n",
    "fig, ax = plt.subplots()\n",
    "\n",
    "X0 = 1\n",
    "X = odeint(simple_ode,X0,T)\n",
    "ax.plot(T,X,linewidth=2, label = f'X0 = {X0}')\n",
    "\n",
    "X0 = 0\n",
    "X = odeint(simple_ode,X0,T)\n",
    "ax.plot(T,X,linewidth=2, label = f'X0 = {X0}')\n",
    "\n",
    "X0 = 0.3\n",
    "X = odeint(simple_ode,X0,T)\n",
    "ax.plot(T,X,linewidth=2, label = f'X0 = {X0}')\n",
    "\n",
    "ax.set_xlabel('Zeit t')\n",
    "ax.set_ylabel('x(t)')\n",
    "ax.legend()"
   ]
  },
  {
   "cell_type": "markdown",
   "metadata": {
    "id": "GAoIHpN-faEK"
   },
   "source": [
    "## Explizites Euler-Verfahren (optional)\n",
    "\n",
    "Hier lernst du ein Verfahren kennen, wie man DGLs lösen kann, ohne am Ende eine analytische Form für die Lösung zu haben.\n",
    "\n",
    "Informiere dich, wie das explizite Euler-Verfahren funktioniert (Wikipedia (sehr formal und technisch) oder Youtube oder oder oder...).\n",
    "\n",
    "Im Folgenden ist die Euler-Methode schon programmiert. Versuche den Code nachzuvollziehen und plotte das Ergebnis.\n",
    "\n",
    "Die Differenzialgleichung von vorhin wird auch hier benutzt."
   ]
  },
  {
   "cell_type": "code",
   "execution_count": null,
   "metadata": {
    "id": "70GVCPLDkSBm"
   },
   "outputs": [],
   "source": [
    "# Diese Funktion integriert die definierte DGL bis zum Zeitpunkt T mit dem expliziten Euler-Verfahren\n",
    "# N ist die Anzahl der Zeitschritte, x0 ist der Anfangswert\n",
    "# Benutzung: x = SimpleEuler(x0,T,N)\n",
    "\n",
    "def SimpleEuler(x0,T,N):\n",
    "    k = 1\n",
    "    # einige Parameter\n",
    "    dt= float(T)/N\n",
    "    timespan = np.arange(0,T,dt)\n",
    "    x = [float(x0)]\n",
    "    \n",
    "    # Integration\n",
    "    for i in range(1,N):\n",
    "        x.append(x[i-1]+dt*(-k*x[i-1]))\n",
    "  \n",
    "    return x, timespan, k"
   ]
  },
  {
   "cell_type": "code",
   "execution_count": null,
   "metadata": {
    "id": "HYZLmYGulsD8"
   },
   "outputs": [],
   "source": [
    "# Wähle einen Anfangswert, die Zeitspanne und die Zeitschritte\n",
    "# Probiere ruhig verschiedene Werte aus, um ein Gefühl für das Verfahren zu bekommen :)\n",
    "\n",
    "x0 = \n",
    "T = \n",
    "N = \n",
    "x, timespan, k = SimpleEuler( ) # was muss in die Klammern und in welcher Reihenfolge?"
   ]
  },
  {
   "cell_type": "code",
   "execution_count": null,
   "metadata": {
    "colab": {
     "base_uri": "https://localhost:8080/",
     "height": 297
    },
    "id": "eSwB4XzzkSIE",
    "outputId": "98f20b8f-0e6b-47a6-cd14-caa0b763c841"
   },
   "outputs": [],
   "source": [
    " # plotte die Lösung des Euler-Verfahrens und die analytische Lösung\n",
    "\n",
    "fig, ax = plt.subplots()\n",
    "ax.plot( , ,'bo',label='Euler Methode') # plotte die Lösung von x gegen die Zeitspanne\n",
    "ax.plot(timespan,x0*np.exp(-k*timespan),'rv',label='Analytische Lösung')\n",
    "ax.set_xlabel('Zeit t')\n",
    "ax.set_ylabel('x(t)')\n",
    "ax.legend(loc='upper right')"
   ]
  },
  {
   "cell_type": "markdown",
   "metadata": {
    "id": "7RHXHj0NXlpe"
   },
   "source": [
    "## Das Lorenzsystem\n",
    "\n",
    "Jetzt bist du an der Reihe! Programmiere das folgende DGL-System, das Lorenzsystem. Es wurde 1963 von Edward Lorenz entwickelt und ist ein sehr stark vereinfachtes Modell der Erdathmosphäre. Das Gleichungssystem sieht wie folgt aus:\n",
    "\n",
    "$$\\frac{\\mathrm{d}}{\\mathrm{d}t} X(t) = a \\cdot (Y(t) - X(t)),$$\n",
    "$$\\frac{\\mathrm{d}}{\\mathrm{d}t} Y(t) = X(t) \\cdot (b - Z(t)) - Y(t),$$\n",
    "$$\\frac{\\mathrm{d}}{\\mathrm{d}t} Z(t) = X(t) \\cdot Y(t) - c \\cdot Z(t).$$\n",
    "\n",
    "Diese **gekoppelten** Differenzialgleichungen (die Änderungsrate der einzelnen Funktionen hängen auch von den anderen Funktionen ab) haben die Ordnung 1 (nur Ableitungen erster Ordnung) und sind **nichtlinear**, das heißt, dass es auch Produkte der einzelnen Funktionen gibt und nicht nur Multiplikation mit Konstanten.\n",
    "\n",
    "Aufgaben 1: Definiere die Funktion für das oben angegebene DGL System.\n",
    "\n",
    "Zeit: nicht länger als 30 Minuten"
   ]
  },
  {
   "cell_type": "code",
   "execution_count": null,
   "metadata": {
    "id": "gpVPEL1eY8l7"
   },
   "outputs": [],
   "source": [
    "def lorenz(r, t, parameter):\n",
    "    #r ist ein 2d array, das die Werte für x, y und z hat. Weise die einzelnen Spalten Variablen zu, um mit diesen weiter zu arbeiten\n",
    "    x = \n",
    "    y = \n",
    "    z = \n",
    "\n",
    "    #parameter ist ein Tuple mit den drei Parametern des Lorenzsystems a,b,c. Weise die einzelnen Werte Variablen zu\n",
    "\n",
    "    #definiere nun die Differenzialgleichungen\n",
    "    dx = \n",
    "    dy = \n",
    "    dz = \n",
    "\n",
    "    #Am Ende musst du aus deinen drei 1D arrays wieder ein 2d array machen, welches du dann zurück gibst.\n",
    "    df = \n",
    "\n",
    "    return "
   ]
  },
  {
   "cell_type": "markdown",
   "metadata": {
    "id": "q30Tr2aS6JoF"
   },
   "source": [
    "Aufgabe 2: Löse die DGL für Zeitpunkte zwischen 0 und 20, Schrittweite 0.01. Als Startwerte kannst du alle auf 1 setzen, die Parameter setzt ihr am Besten auf $a = 16$, $b = 45.92$, $c = 0.4$.\n"
   ]
  },
  {
   "cell_type": "code",
   "execution_count": null,
   "metadata": {
    "colab": {
     "base_uri": "https://localhost:8080/",
     "height": 294
    },
    "id": "2bvyn-3kY_N-",
    "outputId": "f2f93e32-31fb-49cd-b188-19160c0a6e88"
   },
   "outputs": [],
   "source": [
    "T = \n",
    "X0 =\n",
    "parameter = tupel([])"
   ]
  },
  {
   "cell_type": "markdown",
   "metadata": {
    "id": "pzCfMuza6-mv"
   },
   "source": [
    "Aufgabe 3: Löse die DGL und plotte das Ergebnis!"
   ]
  },
  {
   "cell_type": "code",
   "execution_count": null,
   "metadata": {
    "id": "-RU5dZZubUGj"
   },
   "outputs": [],
   "source": [
    "# Du kannst einer Funktion auch über odeint Parameter übergeben. Das heißt, dass du die Parameter in deiner Funktion nicht schon vordefinieren musst.\n",
    "# Wenn du in Funktionen PArameter fest definierst, nennt man das 'hard coding'. Das ist unter Programmierer*innen verpönt. ;)\n",
    "# Die Parameter müssen in einer bestimmten Form übergeben werden, deshalb steht das schon in der Funktion. Aber da fehlt noch was, um sie auszuführen.\n",
    "# Jetzt bist du gefragt! :D\n",
    "X = odeint( , , , args=(parameter,))"
   ]
  },
  {
   "cell_type": "markdown",
   "metadata": {
    "id": "bBwRgZt78G_n"
   },
   "source": [
    "## Differenzialgleichungen herleiten\n",
    "\n",
    "Im Ordner Samstag findest du ein pdf ('DGausRG.pdf'), das erklärt, wie man Differenzialgleichungen aus (bio-)chemischen Reaktionsgleichungen herleitet. Das Kapitel zum Massenwirkungsgesetz kannst du überspringen, wenn du möchtest."
   ]
  },
  {
   "cell_type": "markdown",
   "metadata": {
    "id": "CeSH3ooP8XWs"
   },
   "source": [
    "Die ***Lotka-Volterra-Gleichungen*** modellieren die Populationsdynamik von zwei Tierpopulationen, die sich zueinander in einer Räuber-Beute-Beziehung befinden. Du kannst zunächst \"Reaktionsgleichungen\" aufstellen, die die Räuber-Beute-Beziehungen darstellen. Aus den \"Reaktionsgleichungen\" kannst du dann Differenzialgleichungen herleiten."
   ]
  },
  {
   "cell_type": "markdown",
   "metadata": {
    "id": "HRxf_o6D8cTj"
   },
   "source": [
    "Das Modell macht natürlich vereinfachte Annahmen (sonst wäre es ja kein Modell!). Unsere Annahmen sind die folgenden:\n",
    "\n",
    "\n",
    "*   Die Beutepopulation wird mit einer Geburtenratenkonstante von *a* geboren\n",
    "*   Die Räuberpopulation stirbt mit einer Sterberatenkonstante von *d*\n",
    "* Wenn Räuber auf Beute trifft, wird die Beute gefressen und stirbt, was mit einer Ratenkonstante von *b* passiert.\n",
    "* Wenn Räuber auf Beute trifft, kann der Räuber die Beute fressen und sich dadurch vermehren, was mit einer Ratenkonstante von *g* passiert.\n",
    "\n",
    "Stelle nun je eine Differenzialgleichung für die Beutepopulation und die Räuberpopulation auf, um die Veränderung der Populationsgrößen über die Zeit zu beschreiben."
   ]
  },
  {
   "cell_type": "markdown",
   "metadata": {
    "id": "UUA7imITAW4f"
   },
   "source": [
    "Implementiere das Differenzialgleichungssystem und plotte den zeitlichen Verlauf der Räuber- und Beutepopulationen. Finde geeignete Werte für die Parameter *a*,*b*,*d*,*g* sowie Anfangswerte und einen Beobachtungszeitraum."
   ]
  },
  {
   "cell_type": "markdown",
   "metadata": {
    "id": "F26FpBrhBK2t"
   },
   "source": [
    "Nachdem du das Modell implementiert hast, beantworte die folgenden Fragen:\n",
    "\n",
    "1.   Wie sieht die Populationsdynamik aus?\n",
    "2.   Was denkst du, wie gut die modellierte Populationsdynamik der realen Populationsdynamik entspricht?\n",
    "3. Welche Vereinfachungen wurden beim Modell vorgenommen, die in der Realität komplizierter sind und welche realen Gegebenheiten wurde im Modell ganz weggelassen? Warum?\n",
    "4. Wofür ist das Modell nützlich?\n",
    "\n",
    "Zeit: nicht länger als 90 Minuten\n",
    "\n"
   ]
  },
  {
   "cell_type": "code",
   "execution_count": null,
   "metadata": {
    "id": "RstvB6JbBwko"
   },
   "outputs": [],
   "source": []
  }
 ],
 "metadata": {
  "colab": {
   "collapsed_sections": [],
   "name": "DGL in Python.ipynb",
   "provenance": []
  },
  "kernelspec": {
   "display_name": "Python 3",
   "language": "python",
   "name": "python3"
  },
  "language_info": {
   "codemirror_mode": {
    "name": "ipython",
    "version": 3
   },
   "file_extension": ".py",
   "mimetype": "text/x-python",
   "name": "python",
   "nbconvert_exporter": "python",
   "pygments_lexer": "ipython3",
   "version": "3.8.3"
  }
 },
 "nbformat": 4,
 "nbformat_minor": 4
}
