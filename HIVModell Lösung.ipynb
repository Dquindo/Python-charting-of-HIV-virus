{
 "cells": [
  {
   "cell_type": "markdown",
   "metadata": {},
   "source": [
    "# HIV Modell\n",
    "Du hast die Differenzialgleichungen für das HIV-Modell bereits aufgestellt. Jetzt kannst du diese implementieren, in python lösen und für bestimmte Parameter plotten.\n"
   ]
  },
  {
   "cell_type": "code",
   "execution_count": 1,
   "metadata": {},
   "outputs": [],
   "source": [
    "# Module importieren\n",
    "from scipy.integrate import odeint\n",
    "import numpy as np\n",
    "import matplotlib.pyplot as plt"
   ]
  },
  {
   "cell_type": "markdown",
   "metadata": {},
   "source": [
    "**Aufgabe 1**: Implementiere das HIV-Modell"
   ]
  },
  {
   "cell_type": "code",
   "execution_count": 21,
   "metadata": {},
   "outputs": [],
   "source": [
    "def HIV(x,t,params):\n",
    "    # Definiere die Spezies\n",
    "    T=x[0]\n",
    "    I=x[1]\n",
    "    V=x[2]\n",
    "    # Definiere die Parameter\n",
    "    a,b,c,d,e,f= params\n",
    "    # Definiere die Differenzialgleichungen\n",
    "    dT=lamda_T-d_T*T-beta*T*V\n",
    "    dI=-d_I*I+beta*T*V\n",
    "    dV=-cl*V+k*I\n",
    "    \n",
    "    dH=[dT,dI,dV]\n",
    "\n",
    "    return dH"
   ]
  },
  {
   "cell_type": "markdown",
   "metadata": {},
   "source": [
    "Du benötigst nun noch die passenden Parameter und Anfangswerte für das HIV-Modell. Wir benutzen die Parameter und Anfangswerte aus der Publikation \"Insight into treatment of HIV infection from viral dynamics models\" von Hill AL et al. veröffentlicht 2018 in dem Journal Immunological Reviews (https://www.ncbi.nlm.nih.gov/pmc/articles/PMC6155466/).\n",
    "\n",
    "**Aufgabe 2**: Welche Einheiten haben die Paramter?"
   ]
  },
  {
   "cell_type": "code",
   "execution_count": 22,
   "metadata": {},
   "outputs": [],
   "source": [
    "# Parameter aus Hill AL et al. 2018 Immunol Rev\n",
    "\n",
    "# Produktion der gesunden T-Zellen\n",
    "lamda_T = 100\n",
    "\n",
    "# Infektion\n",
    "beta = 0.0003\n",
    "\n",
    "# Natürliche Todesratenkonstante der gesunden T-Zellen\n",
    "d_T = 0.1\n",
    "\n",
    "# Todesratenkonstante der infizierten T-Zellen\n",
    "d_I = 1.0\n",
    "\n",
    "# Virenproduktion\n",
    "k = 250\n",
    "\n",
    "# Virenabbau\n",
    "cl = 25.0\n",
    "\n",
    "params = [lamda_T,beta,d_T,d_I,k,cl]  # hier Parameter in passender Reihenfolge eintragen\n",
    "\n",
    "# Anfangswerte\n",
    "T0 = 1000\n",
    "I0 = 0.001\n",
    "V0 = 0\n",
    "X0 = [T0,I0,V0]  # hier Anfangswerte der Spezies in passender Reihenfolge eintragen"
   ]
  },
  {
   "cell_type": "markdown",
   "metadata": {},
   "source": [
    "**Aufgabe 3**: Suche dir geeignete Zeitschritte und Zeitraum für die Modellierung aus und löse das Differentialgleichungssystem mit Hilfe der Funktion odeint in Python."
   ]
  },
  {
   "cell_type": "code",
   "execution_count": 23,
   "metadata": {},
   "outputs": [],
   "source": [
    "# Zeitraum und Zeitschritte\n",
    "T = np.arange(0,20.1,0.1)\n",
    "\n",
    "# Integriere das Modell\n",
    "X = odeint(HIV,X0,T,args=(params,))"
   ]
  },
  {
   "cell_type": "markdown",
   "metadata": {},
   "source": [
    "**Aufgabe 4**: Plotte den zeitlichen Verlauf der gesunden und infizierten T-Zellen sowie der Viren."
   ]
  },
  {
   "cell_type": "code",
   "execution_count": 24,
   "metadata": {},
   "outputs": [
    {
     "data": {
      "text/plain": [
       "Text(0.5, 0, 'Zeit t')"
      ]
     },
     "execution_count": 24,
     "metadata": {},
     "output_type": "execute_result"
    },
    {
     "data": {
      "image/png": "[encoded data removed]",
      "text/plain": [
       "<Figure size 432x288 with 1 Axes>"
      ]
     },
     "metadata": {
      "needs_background": "light"
     },
     "output_type": "display_data"
    }
   ],
   "source": [
    "fig, ax = plt.subplots()\n",
    "ax.plot(T, X[:, 0], label = 'T(t)')\n",
    "ax.plot(T, X[:, 1], label = 'I(t)')\n",
    "ax.plot(T, X[:, 2], label = 'V(t)')\n",
    "\n",
    "ax.legend()\n",
    "ax.set_xlabel('Zeit t')"
   ]
  },
  {
   "cell_type": "code",
   "execution_count": null,
   "metadata": {},
   "outputs": [],
   "source": []
  },
  {
   "cell_type": "code",
   "execution_count": null,
   "metadata": {},
   "outputs": [],
   "source": []
  }
 ],
 "metadata": {
  "kernelspec": {
   "display_name": "Python 3",
   "language": "python",
   "name": "python3"
  },
  "language_info": {
   "codemirror_mode": {
    "name": "ipython",
    "version": 3
   },
   "file_extension": ".py",
   "mimetype": "text/x-python",
   "name": "python",
   "nbconvert_exporter": "python",
   "pygments_lexer": "ipython3",
   "version": "3.8.8"
  }
 },
 "nbformat": 4,
 "nbformat_minor": 4
}
